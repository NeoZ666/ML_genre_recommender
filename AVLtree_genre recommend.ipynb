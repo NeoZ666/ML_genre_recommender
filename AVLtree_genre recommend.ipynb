{
 "cells": [
  {
   "cell_type": "code",
   "execution_count": 13,
   "id": "e2ef455c",
   "metadata": {},
   "outputs": [],
   "source": [
    "import pandas as pd\n",
    "from sklearn.tree import DecisionTreeClassifier\n",
    "from sklearn import tree\n",
    "music_df = pd.read_csv('music.csv')\n",
    "X = music_df.drop(columns = [ 'genre' ])\n",
    "y = music_df['genre']\n",
    "model = DecisionTreeClassifier()\n",
    "model.fit(X, y)\n",
    "\n",
    "tree.export_graphviz(model, out_file = 'genre recommender.dot', feature_names = ['age', 'gender'], \n",
    "                     class_names = sorted(y.unique()), label='all', rounded=False, filled=True)"
   ]
  },
  {
   "cell_type": "code",
   "execution_count": 10,
   "id": "5d95db96",
   "metadata": {},
   "outputs": [
    {
     "data": {
      "text/plain": [
       "['Acoustic', 'Classical', 'Dance', 'HipHop', 'Jazz']"
      ]
     },
     "execution_count": 10,
     "metadata": {},
     "output_type": "execute_result"
    }
   ],
   "source": [
    "# array = y.unique()\n",
    "# sorted(array)"
   ]
  }
 ],
 "metadata": {
  "kernelspec": {
   "display_name": "Python 3 (ipykernel)",
   "language": "python",
   "name": "python3"
  },
  "language_info": {
   "codemirror_mode": {
    "name": "ipython",
    "version": 3
   },
   "file_extension": ".py",
   "mimetype": "text/x-python",
   "name": "python",
   "nbconvert_exporter": "python",
   "pygments_lexer": "ipython3",
   "version": "3.9.12"
  }
 },
 "nbformat": 4,
 "nbformat_minor": 5
}
